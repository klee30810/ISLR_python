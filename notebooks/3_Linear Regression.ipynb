{
 "cells": [
  {
   "cell_type": "markdown",
   "metadata": {},
   "source": [
    "# 3. Linear Regression\n",
    "- Is there a relationship between?\n",
    "- How strong is the relationship?\n",
    "- Which features are associated with the target?\n",
    "- How large the association?\n",
    "- How accurately can we predict target?\n",
    "- Is the relationship linear?\n",
    "- Is there synergy among features?"
   ]
  },
  {
   "cell_type": "markdown",
   "metadata": {},
   "source": [
    "\n",
    "## 3.1 Simple linear regression\n",
    "- predicting a quantitative response Y on the basis of a single predictor X. assumes that there is approximately a linear relationship between X and Y.\n",
    "$$ Y \\approx \\beta_0 + \\beta_1X $$\n",
    "  - $ \\beta_0$ : intercept\n",
    "  - $ \\beta_1$ : slope\n",
    "\n",
    "### 3.1.1 Estimating the coefficients \n",
    "- to obtain coefficient estimates $\\hat{\\beta}_0$ and $\\hat{\\beta}_1$ such that the linear model fits the available data well.\n",
    "  - the most common approach involves minimizing the least squares criterion\n",
    "    $e_i = y_i - \\hat{y}_i$ : residual\n",
    "    $$ RSS = e^2_1 + e^2_2 + ... + e^2_n = (y_1-\\hat{\\beta}_0-\\hat{\\beta}_1x_1)^2 + (y_2-\\hat{\\beta}_0-\\hat{\\beta}_1x_2)^2 + ... + (y_n-\\hat{\\beta}_0-\\hat{\\beta}_1x_n)^2 \\\\ \\hat{\\beta_1} = \\frac{\\sum^n_{i=1}(x_i-\\bar{x})(y_i-\\bar{y})}{\\sum^n_{i=1}(x_i-\\bar{x})^2} \\\\ \\hat{\\beta_0}=\\bar{y}-\\hat{\\beta_1}\\bar{x}$$"
   ]
  },
  {
   "cell_type": "markdown",
   "metadata": {},
   "source": [
    "### 3.1.2 Assessing the accuracy of the coefficient estimates\n",
    "$$ Y = \\beta_0 + \\beta_1X+\\epsilon $$\n",
    "- $\\epsilon$ : catch-all for what we miss with this simple model\n",
    "- The sample mean and the population mean are different, but in general hte smaple mean will provide a good estimate of the population mean.\n",
    "- If we use the sample mean $\\hat{\\mu}$ to estimate $\\mu$, this istemate is *unbiased*, in the sense that on average, we expect $\\hat{\\mu}$ to equal $\\mu$\n",
    "  - On the basis of one particular set of observations, $\\hat{\\mu}$ might overestimate of underestimate $\\mu$, then this average would exactly equal $\\mu$\n",
    "- How accurate is the sample mean $\\hat{\\mu}$ as an estimate of $\\mu$?\n",
    "  - standard error of $\\hat\\mu$ $$Var{\\hat\\mu}=SE(\\hat\\mu)^2=\\frac{\\sigma^2}{n} $$\n",
    "    - the average amount that his estimate $\\hat\\mu$ differs from the actual $\\mu$\n",
    "  $$ SE(\\hat\\beta_0)^2 = \\sigma^2[\\frac{1}{n}+\\frac{\\bar{x}^2}{\\sum^n_{i=1}(x_i-\\bar{x})^2}], SE(\\hat\\beta_1)^2 = \\frac{\\sigma^2}{\\sum^n_{i=1}(x_i-\\bar{x})^2} $$\n",
    "    - SE is smaller when $x_i$ are more spread out; intuitiely we have more leverage to estimate a slope.\n",
    "  - In general, $\\sigma^2$ is not konwn, bur can be estimated from the data $RSE = \\sqrt{RSS/(n-2)}\n",
    "- Standard erros can be used to compute *confidence intervals*\n",
    "  - 95% confidence interval : a range of values such that with 95% probability, the range will contain the true unknown value of the parameter\n",
    "    - If we take repeated samples and construct the confidnece interval for each sample, 95% of the invercals will contain the true unknown value of the parameter\n",
    "    - $\\hat\\beta_1 \\pm 2 \\dot SE(\\hat\\beta_1)$\n",
    "- Standard errors can also be used to perform hypothesis tests on the coefficients\n",
    "  - $H_0$ : There is no relationship between X and Y, $\\beta_1=0$\n",
    "  - $H_1$ : There is some relationship between X and Y, $\\beta_0\\neq 0$\n",
    "  - need to determine whether $\\hat\\beta_1$ is sufficiently far from zero that we can confident that $\\beta$ is non-zero.\n",
    "    - depends on the accuracy of $\\hat\\beta_1$ which depends on SE($\\hat\\beta_1$) : if $\\hat\\beta_1$ is small, then even relatively small values of $\\hat\\beta_1$ may probide strong evidence that $\\beta_1 \\neq 0$. If SE($\\hat\\beta_1$) is large, $\\hat\\beta_1$ must be large in absolute value to reject the null hypothesis\n",
    "    - use *t-statistic* : $t = \\frac{\\hat\\beta_1-0}{SE(\\hat\\beta_1)} => measures standard deviation that \\hat\\beta_1 is away from 0.\n",
    "      - if there is no relationship, a t-distribution with n-2 degrees of freedom\n",
    "    - t-distribution has a bell shape and for values greather than 30 is similar to the stadard normal distribution.\n",
    "    - a small p-value indicates that it is unlikely to observe such a substantial association between the predictor and the response due to cahnce, in the absence of any real association between the predictor and the response => there is an association between the predictor and teh response. => **reject null hypothesis**"
   ]
  },
  {
   "cell_type": "markdown",
   "metadata": {},
   "source": []
  }
 ],
 "metadata": {
  "kernelspec": {
   "display_name": "Python 3.8.13 ('kmlee')",
   "language": "python",
   "name": "python3"
  },
  "language_info": {
   "name": "python",
   "version": "3.8.13"
  },
  "orig_nbformat": 4,
  "vscode": {
   "interpreter": {
    "hash": "d50b53f7eecc192699096c3b322d2e418f52a0f23d06ad75ff9fc286d66daf3a"
   }
  }
 },
 "nbformat": 4,
 "nbformat_minor": 2
}
