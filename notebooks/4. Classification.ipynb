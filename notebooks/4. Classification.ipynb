{
 "cells": [
  {
   "cell_type": "markdown",
   "metadata": {},
   "source": [
    "# 4. Classification"
   ]
  },
  {
   "cell_type": "markdown",
   "metadata": {},
   "source": [
    "## 4.2 Why not linear Regression\n",
    "- 정성적 변수 : 결과의 순서에 대한 순서가 존재함 ex. 경중, 중증, 위험군 환자\n",
    "  - 정량적 변수의 경우 1,2,3 등의 서로의 값들의 갭이 비슷하나, 정성적 변수의 경우, 1,2간의 갭이 1,3과의 갭 크기와 같지 않는 순서가 있다. 이런 갭을 선형회귀에서는 감안해줄 수가 없다.\n",
    "  - 이진 분류라면 dummy variable을 이용하여 처리할 수 (3.3.1) 있으나, 해석하기에 좀 난해한 단점도 존재\n"
   ]
  },
  {
   "cell_type": "markdown",
   "metadata": {},
   "source": [
    "## 4.3 Logistic regression\n",
    "- 로지스틱 회귀 : Y가 특별한 클래스에 속할 확률 모델링\n",
    "  \n",
    "### 4.3.1 The Logistic Model\n",
    "- $ p(X) = Pr(Y=1|X) $과 X의 관계 모델링 (이진분류 가정)\n",
    "- 선형 회귀 진행 시, 0,1을 벗어나는 값을 결과로 내놓는다. 그래서 (0, 1)의 범위를 가지는 logistic function을 적용한다. $$ p(X) = \\frac{e^{\\beta_0 +\\beta_1X}}{1+e^{\\beta_0+\\beta1X}}$$\n",
    "  - S-shaped 곡선의 형태를 가지며, 감지 가능한 예측 가능\n",
    "  - $$ \\frac{p(X)}{1-p(X)}=e^{\\beta_0+\\beta_1X}$$\n",
    "  - $ \\frac{p(X)}{1-p(X)} $ : odds(오즈) -> 분류에 있어서 확률 대신 사용됨\n",
    "  - \n",
    "- 해당 모델 적용을 위해 maximum likelihood 적용"
   ]
  },
  {
   "cell_type": "markdown",
   "metadata": {},
   "source": [
    "### 4.3.2 Estimating the Regression Coefficients\n",
    "- maximum likelihood : $\\beta_0, \\beta_1$의 추정치는, 각 예상치 확률이, 각 추정치의 관측치와 최대한 가깝게 되도록\n",
    "- likelihood function\n",
    "  $$ l(\\beta_0,\\ \\beta_1) = \\prod_{i:y_i=1}p(x_i)\\prod_{i':y_{i'}=0}(1-p(x_{i'})) $$\n",
    "  : $\\beta_0,\\ \\beta_1$은 이 likelihood function이 최소회 되는 값을 선택한다 "
   ]
  },
  {
   "cell_type": "markdown",
   "metadata": {},
   "source": [
    "* Maximum Likelihood Estimation : 파라미터 $\\theta$로 구성된 어떤 확률밀도함수 $P(x|\\theta)$에서 관측된 표본 데이터$x=(x_1,...,x_n)$일 때 표본으로부터 파라미터 추정하는 방법\n",
    "  * likelihood : 지금 얻은 데이터가 이 분포로부터 나왔을 가능도. *각 데이터 샘플에서 후보 분포에 대한 높이(likelihood 기여도)를 계산해서 다 곱한 것* -> 곱하는 것은 모든 데이터 추출이 독립적이기 때문\n",
    "  $$ P(x|\\theta) = \\prod^n_{k=1}P(x_k|\\theta) \\\\ L(\\theta|x)=logP(x|\\theta) = \\sum^n_{i=1}logP(x_i|\\theta) $$\n",
    "  * 해당 likelihood function의 최대값 : 미분계수 이용. 찾고자 하는 파라미터에 대하여 편미분 후 0이 되도록 하는 파라미터를 찾기\n",
    "  $$\\frac{\\partial}{\\partial\\theta}L(\\theta|x)= \\frac{\\partial}{\\partial\\theta}logP(x|\\theta)=\\sum^n_{i=1}\\frac{\\partial}{\\partial\\theta}logP(x_i|\\theta)=0$$\n",
    "  * 평균 $\\mu$와 $\\sigma^2$를 모르는 정규분포를 가정하고, 여기서 추출한 값을 통해 모 분포의 평군과 분산 추정\n",
    "    * 정규 분포 가정 시, 표본분포는 $$f_{\\mu,\\sigma^2}(x_i)=\\frac{1}{\\sigma\\sqrt{2\\pi}}exp(-\\frac{(x_i-\\mu)^2}{2\\sigma^2})$$\n",
    "    * 독립추출 가정 $$ P(x|\\theta)=\\sum^n_{i=1}f_{\\mu,\\sigma^2}(x_i)=\\sum^n_{i=1}\\frac{1}{\\sigma\\sqrt{2\\pi}}exp(-\\frac{(x_i-\\mu)^2}{2\\sigma^2}) $$\n",
    "    * 로그 우도 $$ L(\\theta|x)=\\sum^n_{i=1}log\\frac{1}{\\sigma\\sqrt{2\\pi}}exp(-\\frac{(x_i-\\mu)^2}{2\\sigma^2}) = \\sum^n_{i=1}{log(exp(-\\frac{(x_i-\\mu)^2}{2\\sigma^2}))-log(\\sigma\\sqrt{2\\pi})} = \\sum^n_{i=1}{-\\frac{(x_i-\\mu)^2}{2\\sigma^2}-log(\\sigma)-log(\\sqrt{2\\pi})} $$\n",
    "     * $\\mu, \\sigma$로 편미분\n",
    "    $$ \\frac{\\partial L(\\theta|x)}{\\partial \\mu}=\\frac{1}{2\\sigma^2}\\sum^n_{i=1}\\frac{\\partial}{\\partial\\mu}(x^2_i-2x_i\\mu+\\mu^2)=-\\frac{1}{2\\sigma^2}\\sum^n_{i=1}(-2x_i+\\mu)=\\frac{1}{\\sigma^2}\\sum^n_{i=1}(x_i-\\mu)=\\frac{1}{\\sigma^2}(\\sum^n_{i=1}x_i-n\\mu)=0 \\\\ \\frac{\\partial L(\\theta|x)}{\\partial \\sigma} = -\\frac{n}{\\sigma}-\\frac{1}{2}\\sum^n_{i=1}(x_i-\\mu)^2\\frac{\\partial}{\\partial \\sigma}(\\frac{1}{\\sigma^2} = -\\frac{n}{\\sigma}+\\frac{1}{\\sigma^3}\\sum^n_{i=1}(x_i-\\mu)^2=0$$\n",
    "\n",
    "- reference : https://angeloyeo.github.io/2020/07/17/MLE.html"
   ]
  },
  {
   "cell_type": "markdown",
   "metadata": {},
   "source": []
  }
 ],
 "metadata": {
  "kernelspec": {
   "display_name": "Python 3.8.13 ('kmlee')",
   "language": "python",
   "name": "python3"
  },
  "language_info": {
   "name": "python",
   "version": "3.8.13"
  },
  "orig_nbformat": 4,
  "vscode": {
   "interpreter": {
    "hash": "d50b53f7eecc192699096c3b322d2e418f52a0f23d06ad75ff9fc286d66daf3a"
   }
  }
 },
 "nbformat": 4,
 "nbformat_minor": 2
}
