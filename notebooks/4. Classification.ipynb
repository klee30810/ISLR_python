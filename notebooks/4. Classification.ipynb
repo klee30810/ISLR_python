{
 "cells": [
  {
   "cell_type": "markdown",
   "metadata": {},
   "source": [
    "# 4. Classification"
   ]
  },
  {
   "cell_type": "markdown",
   "metadata": {},
   "source": [
    "## 4.2 Why not linear Regression\n",
    "- 정성적 변수 : 결과의 순서에 대한 순서가 존재함 ex. 경중, 중증, 위험군 환자\n",
    "  - 정량적 변수의 경우 1,2,3 등의 서로의 값들의 갭이 비슷하나, 정성적 변수의 경우, 1,2간의 갭이 1,3과의 갭 크기와 같지 않는 순서가 있다. 이런 갭을 선형회귀에서는 감안해줄 수가 없다.\n",
    "  - 이진 분류라면 dummy variable을 이용하여 처리할 수 (3.3.1) 있으나, 해석하기에 좀 난해한 단점도 존재\n"
   ]
  },
  {
   "cell_type": "markdown",
   "metadata": {},
   "source": [
    "## 4.3 Logistic regression\n",
    "- 로지스틱 회귀 : Y가 특별한 클래스에 속할 확률 모델링\n",
    "  \n",
    "### 4.3.1 The Logistic Model\n",
    "- $ p(X) = Pr(Y=1|X) $과 X의 관계 모델링 (이진분류 가정)\n",
    "- 선형 회귀 진행 시, 0,1을 벗어나는 값을 결과로 내놓는다. 그래서 (0, 1)의 범위를 가지는 logistic function을 적용한다. $$ p(X) = \\frac{e^{\\beta_0 +\\beta_1X}}{1+e^{\\beta_0+\\beta1X}}$$\n",
    "  - S-shaped 곡선의 형태를 가지며, 감지 가능한 예측 가능\n",
    "  - $$ \\frac{p(X)}{1-p(X)}=e^{\\beta_0+\\beta_1X}$$\n",
    "  - $ \\frac{p(X)}{1-p(X)} $ : odds(오즈) -> 분류에 있어서 확률 대신 사용됨\n",
    "  - \n",
    "- 해당 모델 적용을 위해 maximum likelihood 적용"
   ]
  },
  {
   "cell_type": "markdown",
   "metadata": {},
   "source": [
    "### 4.3.2 Estimating the Regression Coefficients\n",
    "- maximum likelihood : $\\beta_0, \\beta_1$의 추정치는, 각 예상치 확률이, 각 추정치의 관측치와 최대한 가깝게 되도록\n",
    "- likelihood function\n",
    "  $$ l(\\beta_0,\\ \\beta_1) = \\prod_{i:y_i=1}p(x_i)\\prod_{i':y_{i'}=0}(1-p(x_{i'})) $$\n",
    "  : $\\beta_0,\\ \\beta_1$은 이 likelihood function이 최소회 되는 값을 선택한다 "
   ]
  },
  {
   "cell_type": "markdown",
   "metadata": {},
   "source": []
  }
 ],
 "metadata": {
  "kernelspec": {
   "display_name": "Python 3.8.13 ('kmlee')",
   "language": "python",
   "name": "python3"
  },
  "language_info": {
   "name": "python",
   "version": "3.8.13"
  },
  "orig_nbformat": 4,
  "vscode": {
   "interpreter": {
    "hash": "d50b53f7eecc192699096c3b322d2e418f52a0f23d06ad75ff9fc286d66daf3a"
   }
  }
 },
 "nbformat": 4,
 "nbformat_minor": 2
}
