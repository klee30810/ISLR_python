{
 "cells": [
  {
   "cell_type": "markdown",
   "metadata": {},
   "source": [
    "# 7. Moving Beyond Linearity\n",
    "- linear models : 쉽고 설명력 있으나 예측력이 부족 => 선형성 가정의 한계"
   ]
  },
  {
   "cell_type": "markdown",
   "metadata": {},
   "source": [
    "## 7.1  Polynomial Regression\n",
    "$$ y_i=\\beta_0+\\beta_1x_i+\\beta_2x_i^2+...+\\beta_dx_i^d+\\epsilon_i $$\n",
    "- 각 계수는 최소제곱으로 구할 수 있으며, d가 3,4 이상으로 커지는 경우는 별로 없다 : 지나치게 유연해지고 이상한 모양이 됨\n",
    "- 적합 모형의 분산 : 각 계수의 분산 추정치와 계수들의 공분산 반환. 표준 편차제곱 => 대략 95$의 신뢰구간\n",
    "- 로지스틱 회귀 $Pr(y_i>250|x_i)=\\frac{exp(\\beta_0+\\beta_1x_1+\\beta_2x^2_i+...+\\beta_dx^d_i)}{1+exp(\\beta_0+\\beta_1x_1+\\beta_2x^2_i+...+\\beta_dx^d_i)}$\n",
    "  - 데이터가 많아도 한쪽으로 치우쳐져 있다면 치우치지 않은 쪽의 신뢰구간이 넓을 수 있따."
   ]
  },
  {
   "cell_type": "markdown",
   "metadata": {},
   "source": [
    "## 7.2 Step Functions\n",
    "- polynomical function : global structure => 이걸 쓰지 않기 위해 step function을 사용\n",
    "  - 각 범위를 bins로 나눠 연속형 변수를 순서가 있는 범주형 변수로 변경\n",
    "  - indicator $I(c_K\\leq X)$ : 더미 변수\n",
    "  $$y_i=\\beta_0+\\beta_1C_1(x_i)+\\beta_2C_2(x_i)+...+\\beta_KC_k(x_i)+\\epsilon_i $$ \n",
    "    - $X<c_1$대비 $c_j\\leq X<c_{j+1}$의 $\\beta_i+\\beta_j$반응의 평균 증가\n",
    "- step function 사용 시 행동을 놓칠 수도 있따"
   ]
  },
  {
   "cell_type": "markdown",
   "metadata": {},
   "source": [
    "## 7.3 Basis Functions\n",
    "- Basis function : 함수 벼환에 적용되는 함수\n",
    "  $$ y_i=\\beta_0+\\beta_1b_1(x_i)+\\beta_2b_2(x_i)+...+\\beta_Kb_K(x_i)+\\epsilon $$\n",
    "  - basis function은 고정되고 알 수 있음.\n",
    "  - 최소제곱법을 사용하여, 표준편차, f-stats 등 의 선형 모델의 분석 툴 모두 사용가능"
   ]
  },
  {
   "cell_type": "markdown",
   "metadata": {},
   "source": [
    "## 7.4 Regression Splines\n",
    "### 7.4.1 Piecewise Polynomials\n",
    "- 다른 정의역 영역에 대해 분리된 낮은 차수 다항식으로 적합\n",
    "- knots : 계수 변화가 일어나는 지점\n",
    "  $$ y_i = \\begin{cases} \\beta_{01}+\\beta_{11}x_i+\\beta_{21}x^2_i+\\beta_{31}x^3_i+\\epsilon_i & if x_i < c\\\\ \\beta_{02}+\\beta_{12}x_i+\\beta_{22}x^2_i+\\beta_{32}x^3_i+\\epsilon_i & if x_i \\geq c \\end{cases}$$\n",
    "- knots가 늘어나면 유연해지며, 3차 다항식을 이용할 필요가 없다.\n",
    "\n",
    "### 7.4.2 Constraints and Splines\n",
    "- piecewise polynomial under the constraint : 일정 구간에서 JUMP가 없음"
   ]
  },
  {
   "cell_type": "markdown",
   "metadata": {},
   "source": []
  },
  {
   "cell_type": "markdown",
   "metadata": {},
   "source": []
  },
  {
   "cell_type": "code",
   "execution_count": null,
   "metadata": {},
   "outputs": [],
   "source": []
  },
  {
   "cell_type": "code",
   "execution_count": null,
   "metadata": {},
   "outputs": [],
   "source": []
  },
  {
   "cell_type": "code",
   "execution_count": null,
   "metadata": {},
   "outputs": [],
   "source": []
  },
  {
   "cell_type": "code",
   "execution_count": null,
   "metadata": {},
   "outputs": [],
   "source": []
  }
 ],
 "metadata": {
  "kernelspec": {
   "display_name": "Python 3.8.13 ('kmlee')",
   "language": "python",
   "name": "python3"
  },
  "language_info": {
   "name": "python",
   "version": "3.8.13"
  },
  "orig_nbformat": 4,
  "vscode": {
   "interpreter": {
    "hash": "d50b53f7eecc192699096c3b322d2e418f52a0f23d06ad75ff9fc286d66daf3a"
   }
  }
 },
 "nbformat": 4,
 "nbformat_minor": 2
}
